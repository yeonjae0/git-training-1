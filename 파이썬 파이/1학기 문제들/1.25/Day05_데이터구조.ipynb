{
 "cells": [
  {
   "cell_type": "markdown",
   "id": "47ce9281",
   "metadata": {},
   "source": [
    "<p style=\"font-size: 33px; font-weight: 700; margin-bottom: 3rem\">데이터 구조(Data Structure)</p>\n",
    "\n",
    "데이터 구조(Data Structure) 혹은 자료구조란 데이터에 효율적인 접근 및 수정을 가능케 하는 데이터의 구성, 관리 및 저장형식을 의미합니다.\n",
    "\n",
    "보다 정확하게는 데이터 값들, 해당 값들의 관계, 그리고 해당 데이터들에게 적용할 수 있는 함수와 명령어들의 모음을 총칭하는 단어입니다.\n",
    "\n",
    "\n",
    "**<데이터의 분류>**\n",
    "- 순서가 있는 데이터 구조(Orderd)\n",
    "    - 문자열\n",
    "    - 리스트\n",
    "    - 튜플\n",
    "- 순서가 없는 데이터 구조(Unorderd)\n",
    "    - 셋(Set)\n",
    "    - 딕셔너리(Dictionary)"
   ]
  },
  {
   "cell_type": "markdown",
   "id": "18dd9234",
   "metadata": {},
   "source": [
    "\n",
    "<img src=\"https://user-images.githubusercontent.com/90173310/148184923-9b2910aa-a08c-4027-9315-b8d866819a6c.png\" alt=\"drawing\" width=\"700\"/>\n",
    "\n",
    "---"
   ]
  },
  {
   "cell_type": "markdown",
   "id": "7f42d763",
   "metadata": {},
   "source": [
    "<p style=\"font-size: 30px; font-weight: 700; margin-bottom: 3rem; color:#2889CC\">순서가 있는 데이터 구조</p>"
   ]
  },
  {
   "cell_type": "markdown",
   "id": "4d8c90e7",
   "metadata": {},
   "source": [
    "# 문자열(String)\n",
    "\n",
    "> 변경할 수 없고(immutable), 순서가 있고(ordered), 순회 가능한(iterable)\n",
    "\n",
    "참고 : [문자열의 다양한 조작법(method)](https://docs.python.org/ko/3/library/stdtypes.html#string-methods)"
   ]
  },
  {
   "cell_type": "markdown",
   "id": "b42f3459",
   "metadata": {},
   "source": [
    "## 조회/탐색\n",
    "\n",
    "### `.find(x)` \n",
    "\n",
    "x의 **첫 번째 위치**를 반환합니다. 만일 리스트 내에 x가 없으면, `-1`을 반환합니다."
   ]
  },
  {
   "cell_type": "code",
   "execution_count": 2,
   "id": "90053941",
   "metadata": {},
   "outputs": [],
   "source": [
    "a = 'apple'"
   ]
  },
  {
   "cell_type": "code",
   "execution_count": 3,
   "id": "7dceabed",
   "metadata": {},
   "outputs": [
    {
     "data": {
      "text/plain": [
       "1"
      ]
     },
     "execution_count": 3,
     "metadata": {},
     "output_type": "execute_result"
    }
   ],
   "source": [
    "# find 메서드로 a 문자열에 'p'가 있는지 찾아봅시다.\n",
    "\n",
    "a.find('p')"
   ]
  },
  {
   "cell_type": "code",
   "execution_count": 4,
   "id": "3c4f520b",
   "metadata": {},
   "outputs": [
    {
     "data": {
      "text/plain": [
       "-1"
      ]
     },
     "execution_count": 4,
     "metadata": {},
     "output_type": "execute_result"
    }
   ],
   "source": [
    "# find 메서드로 a 문자열에 'z'가 있는지 찾아봅시다.\n",
    "\n",
    "a.find('z')"
   ]
  },
  {
   "cell_type": "markdown",
   "id": "c44f825f",
   "metadata": {},
   "source": [
    "### `.index(x)`\n",
    "\n",
    "x의 **첫 번째 위치**를 반환합니다. 만일 x가 리스트 내에 없으면, 오류가 발생합니다."
   ]
  },
  {
   "cell_type": "code",
   "execution_count": null,
   "id": "ae301115",
   "metadata": {},
   "outputs": [],
   "source": [
    "a = 'apple'"
   ]
  },
  {
   "cell_type": "code",
   "execution_count": 5,
   "id": "ccedd90b",
   "metadata": {},
   "outputs": [
    {
     "data": {
      "text/plain": [
       "1"
      ]
     },
     "execution_count": 5,
     "metadata": {},
     "output_type": "execute_result"
    }
   ],
   "source": [
    "# index 메서드는 찾고자 하는 문자가 문자열 내에 있을 경우, 첫 번째 위치를 반환합니다.\n",
    "# index 메서드로 a 문자열에서 'p'의 위치를 확인해봅시다.\n",
    "\n",
    "a.index('p')"
   ]
  },
  {
   "cell_type": "code",
   "execution_count": 6,
   "id": "6e138ab0",
   "metadata": {
    "scrolled": true
   },
   "outputs": [
    {
     "ename": "ValueError",
     "evalue": "substring not found",
     "output_type": "error",
     "traceback": [
      "\u001b[1;31m---------------------------------------------------------------------------\u001b[0m",
      "\u001b[1;31mValueError\u001b[0m                                Traceback (most recent call last)",
      "Cell \u001b[1;32mIn[6], line 4\u001b[0m\n\u001b[0;32m      1\u001b[0m \u001b[39m# 찾고자 하는 문자가 문자열 내에 없을 경우, 오류가 발생합니다.\u001b[39;00m\n\u001b[0;32m      2\u001b[0m \u001b[39m# index 메서드로 a문자열에서 'z'의 위치를 찾고, 오류를 확인해봅시다.\u001b[39;00m\n\u001b[1;32m----> 4\u001b[0m a\u001b[39m.\u001b[39;49mindex(\u001b[39m'\u001b[39;49m\u001b[39mz\u001b[39;49m\u001b[39m'\u001b[39;49m)\n",
      "\u001b[1;31mValueError\u001b[0m: substring not found"
     ]
    }
   ],
   "source": [
    "# 찾고자 하는 문자가 문자열 내에 없을 경우, 오류가 발생합니다.\n",
    "# index 메서드로 a문자열에서 'z'의 위치를 찾고, 오류를 확인해봅시다.\n",
    "\n",
    "a.index('z')"
   ]
  },
  {
   "cell_type": "markdown",
   "id": "206fdb81",
   "metadata": {},
   "source": [
    "### `.startswith(x)`, `/.endswith(x)`\n",
    "\n",
    "- `.startswith(x)` : 문자열이 x로 시작하면 True를 반환하고 아니면 False를 반환합니다.\n",
    "- `.endswith(x)` : 문자열이 x로 끝나면 True를 반환하고 아니면 False를 반환합니다.\n",
    "\n",
    "[PEP8 파이썬 스타일 가이드](https://www.python.org/dev/peps/pep-0008/)에서는 접두/접미 문자를 검색 시,\n",
    "화이트 스페이스나 인코딩 문제를 피하기 위해 문자열 분할보다 **startswith, endswith**를 권장합니다.\n",
    "\n",
    "```\n",
    "Use ''.startswith() and ''.endswith() instead of string slicing to check for prefixes or suffixes.\n",
    "\n",
    "startswith() and endswith() are cleaner and less error prone:\n",
    "\n",
    "# Correct:\n",
    "if foo.startswith('bar'):\n",
    "# Wrong:\n",
    "if foo[:3] == 'bar':\n",
    "```"
   ]
  },
  {
   "cell_type": "code",
   "execution_count": null,
   "id": "0c9076a9",
   "metadata": {},
   "outputs": [],
   "source": [
    "a = 'hello python!'"
   ]
  },
  {
   "cell_type": "code",
   "execution_count": 7,
   "id": "a369fcc4",
   "metadata": {},
   "outputs": [
    {
     "data": {
      "text/plain": [
       "False"
      ]
     },
     "execution_count": 7,
     "metadata": {},
     "output_type": "execute_result"
    }
   ],
   "source": [
    "# startwith 메서드를 통해 접두문자가 'hello'인지 확인해봅시다.\n",
    "a.startswith('hello')\n"
   ]
  },
  {
   "cell_type": "markdown",
   "id": "775d504b",
   "metadata": {},
   "source": [
    "### 기타 문자열 관련 검증 메서드\n",
    "\n",
    "`is~` 로 시작하는 많은 메서드들은 문자열이 어떠한 조건에 해당하는지 검증하는 역할을 합니다.\n",
    "\n",
    "- `.isalpha()` : 문자열이 (숫자가 아닌)글자로 이루어져 있는가?\n",
    "-  `.isspace()` : 문자열이 공백으로 이루어져 있는가?\n",
    "-  `.isupper()` : 문자열이 대문자로 이루어져 있는가?\n",
    "-  `.istitle()` : 문자열이 타이틀 형식으로 이루어져 있는가?\n",
    "-  `.islower()` : 문자열이 소문자로 이루어져 있는가?\n",
    "\n",
    "등"
   ]
  },
  {
   "cell_type": "markdown",
   "id": "8a712328",
   "metadata": {},
   "source": [
    "**숫자 판별 메서드**\n",
    "- `.isdecimal()`: 문자열이 0~9까지의 수로 이루어져 있는가?\n",
    "- `.isdigit()`: 문자열이 숫자로 이루어져 있는가?\n",
    "- `.isnumeric()`: 문자열을 수로 볼 수 있는가?\n",
    "\n",
    "\n",
    "| isdecimal() | isdigit() | isnumeric() |          Example               |\n",
    "|:-----------:|:-----------:|:-----------:|:----------------------------------:|\n",
    "|    True     |    True   |    True     | \"038\", \"੦੩੮\", \"０３８\"             |\n",
    "|  False      |    True   |    True     | \"⁰³⁸\", \"🄀⒊⒏\", \"⓪③⑧\"          |\n",
    "|  False      |  False    |    True     | \"↉⅛⅘\", \"ⅠⅢⅧ\", \"⑩⑬㊿\", \"壹貳參\"   |\n",
    "|  False      |  False    |  False      | \"abc\", \"38.0\", \"-38\"             |\n"
   ]
  },
  {
   "cell_type": "code",
   "execution_count": 9,
   "id": "439e1f57",
   "metadata": {},
   "outputs": [],
   "source": [
    "a = '    n'\n",
    "b = '\\n \\t '"
   ]
  },
  {
   "cell_type": "code",
   "execution_count": 14,
   "id": "5bd0503f",
   "metadata": {},
   "outputs": [
    {
     "name": "stdout",
     "output_type": "stream",
     "text": [
      "False\n",
      "True\n"
     ]
    }
   ],
   "source": [
    "# isspace 메서드를 통해 a, b가 공백으로 이루어져 있는지 확인해봅시다.\n",
    "\n",
    "print(a.isspace())\n",
    "print(b.isspace())"
   ]
  },
  {
   "cell_type": "code",
   "execution_count": 16,
   "id": "dc076823",
   "metadata": {},
   "outputs": [],
   "source": [
    "a = '파이썬'\n",
    "b = 'python'\n",
    "c = 'python 3.9.9'"
   ]
  },
  {
   "cell_type": "code",
   "execution_count": 17,
   "id": "62fe996e",
   "metadata": {},
   "outputs": [
    {
     "name": "stdout",
     "output_type": "stream",
     "text": [
      "True\n",
      "True\n",
      "False\n"
     ]
    }
   ],
   "source": [
    "# isalpha 메서드를 통해 문자열 a, b, c에 대한 알파벳 여부를 확인해봅시다.\n",
    "\n",
    "print(a.isalpha())\n",
    "print(b.isalpha())\n",
    "print(c.isalpha())"
   ]
  },
  {
   "cell_type": "markdown",
   "id": "88c1cbf6",
   "metadata": {},
   "source": [
    "## 문자열 변경"
   ]
  },
  {
   "cell_type": "markdown",
   "id": "b0c8ce38",
   "metadata": {},
   "source": [
    "### `.replace(old, new[, count])`\n",
    "\n",
    "바꿀 대상 글자를 새로운 글자로 바꿔서 반환합니다.\n",
    "\n",
    "count를 지정하면 해당 갯수만큼만 시행합니다.\n",
    "\n",
    "> **(참고)** 메서드 설명에서 `[]` 표기는 해당 parameter가 선택적임을 나타냅니다."
   ]
  },
  {
   "cell_type": "code",
   "execution_count": 21,
   "id": "45a4c64b",
   "metadata": {},
   "outputs": [],
   "source": [
    "a = 'yaya!'\n",
    "b = 'wooooowoo'"
   ]
  },
  {
   "cell_type": "code",
   "execution_count": 20,
   "id": "044713f8",
   "metadata": {},
   "outputs": [
    {
     "name": "stdout",
     "output_type": "stream",
     "text": [
      "yaya!\n"
     ]
    }
   ],
   "source": [
    "# replace 메서드를 통해 a의 글자 y를 h로 변경해봅시다.\n",
    "\n",
    "a.replace('y','h')\n",
    "print(a)"
   ]
  },
  {
   "cell_type": "code",
   "execution_count": 24,
   "id": "6f3f27d9",
   "metadata": {},
   "outputs": [
    {
     "name": "stdout",
     "output_type": "stream",
     "text": [
      "w__ooowoo\n"
     ]
    }
   ],
   "source": [
    "# replace 메서드를 통해 b의 글자 o 2개를 _로 변경해봅시다.\n",
    "\n",
    "print(b.replace('o','_', 2))\n"
   ]
  },
  {
   "cell_type": "markdown",
   "id": "8db06afa",
   "metadata": {},
   "source": [
    "### `.strip([chars])`\n",
    "\n",
    "`.strip([chars])`은 특정한 문자들을 지정하면 문자열의 모든 조합을 제거합니다. 인자가 없을 경우 공백을 제거합니다.\n",
    "\n",
    "`.lstrip([chars])`은 특정한 문자들을 지정하면 문자열의 왼쪽으로 모든 조합을 제거합니다. 인자가 없을 경우 왼쪽 공백을 제거합니다.\n",
    "\n",
    "`.rstrip([chars])`은 특정한 문자들을 지정하면 문자열의 오른쪽으로 모든 조합을 제거합니다. 인자가 없을 경우 오른쪽 공백을 제거합니다.\n",
    "\n",
    "\n",
    "`chars` 파라미터를 지정하지 않으면 공백을 제거합니다."
   ]
  },
  {
   "cell_type": "code",
   "execution_count": 29,
   "id": "6ca5935f",
   "metadata": {},
   "outputs": [],
   "source": [
    "a = '   hello!  \\n'\n",
    "b = 'hihihihahahahihi'\n",
    "c = 'monty python'"
   ]
  },
  {
   "cell_type": "code",
   "execution_count": 26,
   "id": "ad26c8a9",
   "metadata": {},
   "outputs": [
    {
     "name": "stdout",
     "output_type": "stream",
     "text": [
      "hello!\n"
     ]
    }
   ],
   "source": [
    "# strip 메서드로 a의 양쪽 공백을 제거해봅시다.\n",
    "\n",
    "print(a.strip())"
   ]
  },
  {
   "cell_type": "code",
   "execution_count": 27,
   "id": "322059f3",
   "metadata": {},
   "outputs": [
    {
     "name": "stdout",
     "output_type": "stream",
     "text": [
      "hello!  \n",
      "\n"
     ]
    }
   ],
   "source": [
    "# lstrip 메서드로 a의 왼쪽 공백을 제거해봅시다.\n",
    "\n",
    "print(a.lstrip())"
   ]
  },
  {
   "cell_type": "code",
   "execution_count": 28,
   "id": "505437e9",
   "metadata": {},
   "outputs": [
    {
     "name": "stdout",
     "output_type": "stream",
     "text": [
      "hihihihahaha\n"
     ]
    }
   ],
   "source": [
    "# rstrip 메서드로 b의 오른쪽에서부터 글자 hi를 제거해봅시다.\n",
    "\n",
    "print(b.rstrip('hi'))"
   ]
  },
  {
   "cell_type": "code",
   "execution_count": 33,
   "id": "c36c0146",
   "metadata": {},
   "outputs": [
    {
     "name": "stdout",
     "output_type": "stream",
     "text": [
      "monty \n"
     ]
    }
   ],
   "source": [
    "# `chars` 파라미터를 지정한 경우, 모든 조합을 이용하여 제거합니다.\n",
    "# rstrip 메서드로 c의 오른쪽에서부터 글자 ' python'을 제거해봅시다.\n",
    "\n",
    "print(c.rstrip('python'))"
   ]
  },
  {
   "cell_type": "markdown",
   "id": "af7d9fcf",
   "metadata": {},
   "source": [
    "### `.split([chars])`\n",
    "\n",
    "문자열을 특정한 단위로 나누어 리스트로 반환합니다."
   ]
  },
  {
   "cell_type": "code",
   "execution_count": 35,
   "id": "cad69112",
   "metadata": {},
   "outputs": [],
   "source": [
    "a = 'a_b_c'"
   ]
  },
  {
   "cell_type": "code",
   "execution_count": 37,
   "id": "c90dd79e",
   "metadata": {},
   "outputs": [
    {
     "name": "stdout",
     "output_type": "stream",
     "text": [
      "['a', 'b', 'c']\n"
     ]
    }
   ],
   "source": [
    "# split 메서드로 _를 기준으로 문자열을 나누어 리스트로 반환해봅시다.\n",
    "\n",
    "print(a.split('_'))"
   ]
  },
  {
   "cell_type": "code",
   "execution_count": 38,
   "id": "3e34ad11",
   "metadata": {},
   "outputs": [],
   "source": [
    "# 사용자의 입력값을 받아 i에 저장합니다.\n",
    "# 입력받은 문자열을 split 메서드로 공백을 기준으로 나누어 리스트로 반환해봅시다.\n",
    "\n"
   ]
  },
  {
   "cell_type": "markdown",
   "id": "2b5b0276",
   "metadata": {},
   "source": [
    "### `'separator'.join(iterable)`\n",
    "iterable 의 문자열들을 separator(구분자)로 이어 붙인(`join()`) 문자열을 반환합니다.\n",
    "\n",
    "다른 메서드들과 달리, <u>**구분자**</u>가 join 메서드를 제공하는 문자열입니다."
   ]
  },
  {
   "cell_type": "code",
   "execution_count": 1,
   "id": "0a766893",
   "metadata": {},
   "outputs": [],
   "source": [
    "word = '배고파'\n",
    "words = ['안녕', 'hello']"
   ]
  },
  {
   "cell_type": "code",
   "execution_count": 2,
   "id": "aec3eacc",
   "metadata": {},
   "outputs": [
    {
     "data": {
      "text/plain": [
       "'배!고!파'"
      ]
     },
     "execution_count": 2,
     "metadata": {},
     "output_type": "execute_result"
    }
   ],
   "source": [
    "# join 메서드로 word의 문자열 사이에 !를 넣은 결과를 반환해봅시다.\n",
    "\n",
    "'!'.join(word)"
   ]
  },
  {
   "cell_type": "code",
   "execution_count": 3,
   "id": "707e7183",
   "metadata": {},
   "outputs": [
    {
     "data": {
      "text/plain": [
       "'안녕hello'"
      ]
     },
     "execution_count": 3,
     "metadata": {},
     "output_type": "execute_result"
    }
   ],
   "source": [
    "# join 메서드로 words의 문자들을 하나로 합친 결과를 반환해봅시다.\n",
    "''.join(words)\n"
   ]
  },
  {
   "cell_type": "markdown",
   "id": "543679cd",
   "metadata": {},
   "source": [
    "### `.capitalize()`, `.title()`, `.upper()`\n",
    "\n",
    "* `.capitalize()` : 앞글자를 대문자로 만들어 반환합니다.\n",
    "\n",
    "* `.title()` : 어포스트로피(*'*)나 공백 이후를 대문자로 만들어 반환합니다.\n",
    "\n",
    "* `.upper()` : 모두 대문자로 만들어 반환합니다."
   ]
  },
  {
   "cell_type": "code",
   "execution_count": 5,
   "id": "e2c9d58a",
   "metadata": {},
   "outputs": [],
   "source": [
    "a = 'hI! Everyone, I\\'m kim'"
   ]
  },
  {
   "cell_type": "code",
   "execution_count": 6,
   "id": "03ded99f",
   "metadata": {},
   "outputs": [
    {
     "data": {
      "text/plain": [
       "\"Hi! everyone, i'm kim\""
      ]
     },
     "execution_count": 6,
     "metadata": {},
     "output_type": "execute_result"
    }
   ],
   "source": [
    "# capitalize 메서드로 a의 앞글자를 대문자로 만들어 반환해봅시다.\n",
    "a.capitalize()\n"
   ]
  },
  {
   "cell_type": "code",
   "execution_count": 7,
   "id": "49a706f9",
   "metadata": {},
   "outputs": [
    {
     "data": {
      "text/plain": [
       "\"Hi! Everyone, I'M Kim\""
      ]
     },
     "execution_count": 7,
     "metadata": {},
     "output_type": "execute_result"
    }
   ],
   "source": [
    "# title 메서드로 a의 각각의 단어 앞글자를 대문자로 만들어 반환해봅시다.\n",
    "\n",
    "a.title()"
   ]
  },
  {
   "cell_type": "code",
   "execution_count": 8,
   "id": "0c56c1f8",
   "metadata": {},
   "outputs": [
    {
     "data": {
      "text/plain": [
       "\"HI! EVERYONE, I'M KIM\""
      ]
     },
     "execution_count": 8,
     "metadata": {},
     "output_type": "execute_result"
    }
   ],
   "source": [
    "# upper 메서드로 a를 모두 대문자로 만들어 반환해봅시다.\n",
    "a.upper()\n"
   ]
  },
  {
   "cell_type": "code",
   "execution_count": 9,
   "id": "4fbdc2a7",
   "metadata": {},
   "outputs": [
    {
     "name": "stdout",
     "output_type": "stream",
     "text": [
      "hI! Everyone, I'm kim\n"
     ]
    }
   ],
   "source": [
    "# print 함수로 a를 출력하여 원본 데이터를 확인해봅시다.\n",
    "\n",
    "print(a)"
   ]
  },
  {
   "cell_type": "markdown",
   "id": "b32cf528",
   "metadata": {},
   "source": [
    "### `.lower()`, `.swapcase()`\n",
    "\n",
    "* `lower()` : 모두 소문자로 만들어 반환합니다.\n",
    "\n",
    "* `swapcase()` : 대 <-> 소문자로 변경하여 반환합니다."
   ]
  },
  {
   "cell_type": "code",
   "execution_count": null,
   "id": "a8ff039c",
   "metadata": {},
   "outputs": [],
   "source": [
    "a = 'hI! Everyone, I\\'m kim'"
   ]
  },
  {
   "cell_type": "code",
   "execution_count": 10,
   "id": "1501edae",
   "metadata": {},
   "outputs": [
    {
     "data": {
      "text/plain": [
       "\"hi! everyone, i'm kim\""
      ]
     },
     "execution_count": 10,
     "metadata": {},
     "output_type": "execute_result"
    }
   ],
   "source": [
    "# lower 메서드로 a을 모두 소문자로 만들어 반환해봅시다.\n",
    "\n",
    "a.lower()"
   ]
  },
  {
   "cell_type": "code",
   "execution_count": 11,
   "id": "00aec388",
   "metadata": {},
   "outputs": [
    {
     "data": {
      "text/plain": [
       "\"Hi! eVERYONE, i'M KIM\""
      ]
     },
     "execution_count": 11,
     "metadata": {},
     "output_type": "execute_result"
    }
   ],
   "source": [
    "# swapcase 메서드로 a의 대소문자를 서로 변경하여 반환해봅시다.\n",
    "\n",
    "a.swapcase()"
   ]
  },
  {
   "cell_type": "code",
   "execution_count": 12,
   "id": "6e72bf87",
   "metadata": {},
   "outputs": [
    {
     "name": "stdout",
     "output_type": "stream",
     "text": [
      "hI! Everyone, I'm kim\n"
     ]
    }
   ],
   "source": [
    "# print 함수로 a를 출력하여 원본데이터를 확인해봅시다.\n",
    "\n",
    "print(a)"
   ]
  },
  {
   "cell_type": "markdown",
   "id": "4be09c26",
   "metadata": {},
   "source": [
    "## 문자열 메서드 모두 확인하기\n",
    "파이썬 내장함수 dir을 통해 컨테이너가 가지고 있는 메서드를 확인할 수 있습니다."
   ]
  },
  {
   "cell_type": "code",
   "execution_count": 13,
   "id": "fe09c3fd",
   "metadata": {
    "scrolled": true
   },
   "outputs": [
    {
     "data": {
      "text/plain": [
       "['__add__',\n",
       " '__class__',\n",
       " '__contains__',\n",
       " '__delattr__',\n",
       " '__dir__',\n",
       " '__doc__',\n",
       " '__eq__',\n",
       " '__format__',\n",
       " '__ge__',\n",
       " '__getattribute__',\n",
       " '__getitem__',\n",
       " '__getnewargs__',\n",
       " '__gt__',\n",
       " '__hash__',\n",
       " '__init__',\n",
       " '__init_subclass__',\n",
       " '__iter__',\n",
       " '__le__',\n",
       " '__len__',\n",
       " '__lt__',\n",
       " '__mod__',\n",
       " '__mul__',\n",
       " '__ne__',\n",
       " '__new__',\n",
       " '__reduce__',\n",
       " '__reduce_ex__',\n",
       " '__repr__',\n",
       " '__rmod__',\n",
       " '__rmul__',\n",
       " '__setattr__',\n",
       " '__sizeof__',\n",
       " '__str__',\n",
       " '__subclasshook__',\n",
       " 'capitalize',\n",
       " 'casefold',\n",
       " 'center',\n",
       " 'count',\n",
       " 'encode',\n",
       " 'endswith',\n",
       " 'expandtabs',\n",
       " 'find',\n",
       " 'format',\n",
       " 'format_map',\n",
       " 'index',\n",
       " 'isalnum',\n",
       " 'isalpha',\n",
       " 'isascii',\n",
       " 'isdecimal',\n",
       " 'isdigit',\n",
       " 'isidentifier',\n",
       " 'islower',\n",
       " 'isnumeric',\n",
       " 'isprintable',\n",
       " 'isspace',\n",
       " 'istitle',\n",
       " 'isupper',\n",
       " 'join',\n",
       " 'ljust',\n",
       " 'lower',\n",
       " 'lstrip',\n",
       " 'maketrans',\n",
       " 'partition',\n",
       " 'removeprefix',\n",
       " 'removesuffix',\n",
       " 'replace',\n",
       " 'rfind',\n",
       " 'rindex',\n",
       " 'rjust',\n",
       " 'rpartition',\n",
       " 'rsplit',\n",
       " 'rstrip',\n",
       " 'split',\n",
       " 'splitlines',\n",
       " 'startswith',\n",
       " 'strip',\n",
       " 'swapcase',\n",
       " 'title',\n",
       " 'translate',\n",
       " 'upper',\n",
       " 'zfill']"
      ]
     },
     "execution_count": 13,
     "metadata": {},
     "output_type": "execute_result"
    }
   ],
   "source": [
    "# dir 함수로 문자열이 가지고 있는 메서드를 확인할 수 있습니다.\n",
    "dir('string') # dir(str)"
   ]
  },
  {
   "cell_type": "markdown",
   "id": "4214e9b1",
   "metadata": {},
   "source": [
    "---"
   ]
  },
  {
   "cell_type": "markdown",
   "id": "4c163aac",
   "metadata": {},
   "source": [
    "# 리스트(List)\n",
    "\n",
    "> 변경 가능하고(mutable), 순서가 있고(ordered), 순회 가능한(iterable)\n",
    "\n",
    "![image](https://user-images.githubusercontent.com/90173310/148152798-e42f9525-2eef-4bf7-bf0b-6031a0913693.png)"
   ]
  },
  {
   "cell_type": "markdown",
   "id": "8644ebe6",
   "metadata": {},
   "source": [
    "## 값 추가 및 삭제\n",
    "\n",
    "### `.append(x)`\n",
    "\n",
    "리스트에 값을 추가할 수 있습니다.\n",
    "\n",
    "`a[len(a):] = [x]` 와 동일합니다."
   ]
  },
  {
   "cell_type": "code",
   "execution_count": 24,
   "id": "20025945",
   "metadata": {},
   "outputs": [
    {
     "name": "stdout",
     "output_type": "stream",
     "text": [
      "['starbucks', 'tomntoms', 'hollys']\n"
     ]
    }
   ],
   "source": [
    "cafe = ['starbucks', 'tomntoms', 'hollys']\n",
    "print(cafe)"
   ]
  },
  {
   "cell_type": "code",
   "execution_count": 25,
   "id": "c61e9aa1",
   "metadata": {},
   "outputs": [
    {
     "name": "stdout",
     "output_type": "stream",
     "text": [
      "['starbucks', 'tomntoms', 'hollys', 'banapresso']\n"
     ]
    }
   ],
   "source": [
    "# append 메서드로 cafe에 banapresso를 추가해봅시다.\n",
    "\n",
    "cafe.append('banapresso')\n",
    "print(cafe)"
   ]
  },
  {
   "cell_type": "markdown",
   "id": "e31ad7f6",
   "metadata": {},
   "source": [
    "### `.insert(i, x)`\n",
    "\n",
    "정해진 위치 `i`에 값을 추가합니다."
   ]
  },
  {
   "cell_type": "code",
   "execution_count": 26,
   "id": "3ae56bdd",
   "metadata": {},
   "outputs": [
    {
     "name": "stdout",
     "output_type": "stream",
     "text": [
      "['start', 'starbucks', 'tomntoms', 'hollys', 'banapresso']\n"
     ]
    }
   ],
   "source": [
    "# insert 메서드로 cafe 첫번째에 문자열 start를 넣어봅시다.\n",
    "\n",
    "cafe.insert(0,'start')\n",
    "print(cafe)"
   ]
  },
  {
   "cell_type": "code",
   "execution_count": 27,
   "id": "3ee6d1d5",
   "metadata": {},
   "outputs": [
    {
     "name": "stdout",
     "output_type": "stream",
     "text": [
      "['start', 'starbucks', 'tomntoms', 'hollys', 'banapresso', 'end']\n"
     ]
    }
   ],
   "source": [
    "# insert 메서드로 cafe 마지막에 문자열 end를 넣어봅시다.\n",
    "# 마지막 위치는 len함수를 이용합니다.\n",
    "\n",
    "cafe.insert(len(cafe),'end')\n",
    "print(cafe)"
   ]
  },
  {
   "cell_type": "code",
   "execution_count": 36,
   "id": "8e6cb4c4",
   "metadata": {},
   "outputs": [
    {
     "name": "stdout",
     "output_type": "stream",
     "text": [
      "['start', 'starbucks', 'tomntoms', 'hollys', 'banapresso', 'end', 'wcafe', '!', '!', '빽다방', 'mc_cafe', 'droptop', 'mc_cafe', 'droptop', ['coffeenie'], 'twosome_place', 'e', 'd', 'i', 'y', 'a', '!']\n"
     ]
    }
   ],
   "source": [
    "# insert 메서드로 cafe 길이보다 큰 인덱스에 문자열 !를 넣어봅시다.\n",
    "# 리스트의 길이를 넘어서는 인덱스는 마지막에 아이템이 추가됩니다.\n",
    "\n",
    "cafe.insert(100, \"!\")\n",
    "print(cafe)"
   ]
  },
  {
   "cell_type": "code",
   "execution_count": null,
   "id": "42e8841e",
   "metadata": {},
   "outputs": [],
   "source": [
    "# a.insert(0, x)는 리스트의 처음에 x를 삽입하고,\n",
    "# a.insert(len(a), x) 는 a.append(x) 와 같습니다."
   ]
  },
  {
   "cell_type": "markdown",
   "id": "4bcda50d",
   "metadata": {},
   "source": [
    "### `.extend(iterable)`\n",
    "\n",
    "리스트에 iterable(list, range, tuple, string) 값을 붙일 수가 있습니다.\n",
    "\n",
    "`a[len(a):] = iterable` 와 동일합니다."
   ]
  },
  {
   "cell_type": "code",
   "execution_count": 28,
   "id": "7ba6ba8d",
   "metadata": {},
   "outputs": [
    {
     "name": "stdout",
     "output_type": "stream",
     "text": [
      "['start', 'starbucks', 'tomntoms', 'hollys', 'banapresso', 'end', 'wcafe', '빽다방']\n"
     ]
    }
   ],
   "source": [
    "# extend 메서드로 cafe에 ['wcafe', '빽다방']를 추가해봅시다.\n",
    "\n",
    "cafe.extend(['wcafe', '빽다방'])\n",
    "print(cafe)"
   ]
  },
  {
   "cell_type": "code",
   "execution_count": 30,
   "id": "43a70e0f",
   "metadata": {},
   "outputs": [
    {
     "name": "stdout",
     "output_type": "stream",
     "text": [
      "['start', 'starbucks', 'tomntoms', 'hollys', 'banapresso', 'end', 'wcafe', '빽다방', 'mc_cafe', 'droptop', 'mc_cafe', 'droptop']\n"
     ]
    }
   ],
   "source": [
    "# += 연산자로 cafe에 ['mc_cafe', 'droptop']를 추가해봅시다.\n",
    "# 앞서 배운 list concatenate와 동일합니다.\n",
    "\n",
    "cafe += ['mc_cafe', 'droptop']\n",
    "print(cafe)"
   ]
  },
  {
   "cell_type": "code",
   "execution_count": 31,
   "id": "446efe2f",
   "metadata": {},
   "outputs": [
    {
     "name": "stdout",
     "output_type": "stream",
     "text": [
      "['start', 'starbucks', 'tomntoms', 'hollys', 'banapresso', 'end', 'wcafe', '빽다방', 'mc_cafe', 'droptop', 'mc_cafe', 'droptop', ['coffeenie']]\n"
     ]
    }
   ],
   "source": [
    "# append vs extend\n",
    "\n",
    "# append 메서드로 cafe에 ['coffeenie']를 추가해봅시다.\n",
    "\n",
    "cafe.append(['coffeenie'])\n",
    "print(cafe)"
   ]
  },
  {
   "cell_type": "code",
   "execution_count": 32,
   "id": "b699dca9",
   "metadata": {},
   "outputs": [
    {
     "name": "stdout",
     "output_type": "stream",
     "text": [
      "['start', 'starbucks', 'tomntoms', 'hollys', 'banapresso', 'end', 'wcafe', '빽다방', 'mc_cafe', 'droptop', 'mc_cafe', 'droptop', ['coffeenie'], 'twosome_place']\n"
     ]
    }
   ],
   "source": [
    "# append vs extend\n",
    "\n",
    "# extend 메서드로 cafe에 ['twosome_place']를 추가해봅시다.\n",
    "\n",
    "cafe.extend(['twosome_place'])\n",
    "print(cafe)"
   ]
  },
  {
   "cell_type": "code",
   "execution_count": 33,
   "id": "f577f73f",
   "metadata": {},
   "outputs": [
    {
     "name": "stdout",
     "output_type": "stream",
     "text": [
      "['start', 'starbucks', 'tomntoms', 'hollys', 'banapresso', 'end', 'wcafe', '빽다방', 'mc_cafe', 'droptop', 'mc_cafe', 'droptop', ['coffeenie'], 'twosome_place', 'e', 'd', 'i', 'y', 'a']\n"
     ]
    }
   ],
   "source": [
    "# extend 메서드로 cafe에 문자열 ediya를 추가해봅시다.\n",
    "\n",
    "cafe.extend('ediya')\n",
    "print(cafe)"
   ]
  },
  {
   "cell_type": "markdown",
   "id": "fca5372e",
   "metadata": {},
   "source": [
    "### `.remove(x)`\n",
    "\n",
    "리스트에서 값이 x인 첫번째 항목을 삭제합니다.\n",
    "\n",
    "만일 그런 항목이 없으면 `ValueError`가 발생합니다."
   ]
  },
  {
   "cell_type": "code",
   "execution_count": 38,
   "id": "15b593fb",
   "metadata": {},
   "outputs": [],
   "source": [
    "numbers = [1, 2, 3, 1, 2]"
   ]
  },
  {
   "cell_type": "code",
   "execution_count": 39,
   "id": "255826c6",
   "metadata": {},
   "outputs": [
    {
     "name": "stdout",
     "output_type": "stream",
     "text": [
      "[2, 3, 1, 2]\n"
     ]
    }
   ],
   "source": [
    "# remove 메서드로 1을 삭제 해봅시다.\n",
    "\n",
    "numbers.remove(1)\n",
    "print(numbers)"
   ]
  },
  {
   "cell_type": "code",
   "execution_count": 40,
   "id": "36189253",
   "metadata": {},
   "outputs": [
    {
     "name": "stdout",
     "output_type": "stream",
     "text": [
      "[2, 3, 2]\n"
     ]
    }
   ],
   "source": [
    "# remove 메서드로 1을 한 번 더 삭제 해봅시다.\n",
    "\n",
    "numbers.remove(1)\n",
    "print(numbers)"
   ]
  },
  {
   "cell_type": "code",
   "execution_count": 41,
   "id": "14da985a",
   "metadata": {},
   "outputs": [
    {
     "ename": "ValueError",
     "evalue": "list.remove(x): x not in list",
     "output_type": "error",
     "traceback": [
      "\u001b[1;31m---------------------------------------------------------------------------\u001b[0m",
      "\u001b[1;31mValueError\u001b[0m                                Traceback (most recent call last)",
      "Cell \u001b[1;32mIn[41], line 5\u001b[0m\n\u001b[0;32m      1\u001b[0m \u001b[39m# remove는 값이 없으면 오류가 발생합니다.\u001b[39;00m\n\u001b[0;32m      2\u001b[0m \u001b[39m# remove 메서드로 1을 한 번 더 삭제하여, 확인해봅시다.\u001b[39;00m\n\u001b[1;32m----> 5\u001b[0m numbers\u001b[39m.\u001b[39;49mremove(\u001b[39m1\u001b[39;49m)\n\u001b[0;32m      6\u001b[0m \u001b[39mprint\u001b[39m(numbers)\n",
      "\u001b[1;31mValueError\u001b[0m: list.remove(x): x not in list"
     ]
    }
   ],
   "source": [
    "# remove는 값이 없으면 오류가 발생합니다.\n",
    "# remove 메서드로 1을 한 번 더 삭제하여, 확인해봅시다.\n",
    "\n",
    "\n",
    "numbers.remove(1)\n",
    "print(numbers)"
   ]
  },
  {
   "cell_type": "markdown",
   "id": "eb4e7305",
   "metadata": {},
   "source": [
    "### `.pop([i])`\n",
    "\n",
    "정해진 위치 `i`에 있는 값을 삭제하며, 그 항목을 반환합니다.\n",
    "\n",
    "`i`가 지정되지 않으면 마지막 항목을 삭제하고 되돌려줍니다."
   ]
  },
  {
   "cell_type": "code",
   "execution_count": 42,
   "id": "1ad82215",
   "metadata": {},
   "outputs": [],
   "source": [
    "numbers = [1, 2, 3, 4, 5, 6]"
   ]
  },
  {
   "cell_type": "code",
   "execution_count": 43,
   "id": "aabd997e",
   "metadata": {},
   "outputs": [
    {
     "name": "stdout",
     "output_type": "stream",
     "text": [
      "[2, 3, 4, 5, 6]\n"
     ]
    }
   ],
   "source": [
    "# pop 메서드로 가장 앞에 있는 숫자를 삭제해봅시다.\n",
    "# 삭제후 numbers를 출력해봅시다.\n",
    "\n",
    "numbers.pop(0)\n",
    "print(numbers)"
   ]
  },
  {
   "cell_type": "code",
   "execution_count": 44,
   "id": "e804ab2b",
   "metadata": {},
   "outputs": [
    {
     "name": "stdout",
     "output_type": "stream",
     "text": [
      "6\n"
     ]
    }
   ],
   "source": [
    "# pop 메서드로 가장 마지막에 있는 숫자를 삭제하고 결과를 a에 저장합니다.\n",
    "# 삭제된 숫자와 결과를 모두 출력해봅시다.\n",
    "\n",
    "a = numbers.pop(-1)\n",
    "print(a)"
   ]
  },
  {
   "cell_type": "markdown",
   "id": "5c79f0e2",
   "metadata": {},
   "source": [
    "### `.clear()`\n",
    "\n",
    "리스트의 모든 항목을 삭제합니다."
   ]
  },
  {
   "cell_type": "code",
   "execution_count": null,
   "id": "59cfce7d",
   "metadata": {},
   "outputs": [],
   "source": [
    "numbers = [1, 2, 3, 4, 5, 6]"
   ]
  },
  {
   "cell_type": "code",
   "execution_count": 45,
   "id": "ca04d663",
   "metadata": {},
   "outputs": [
    {
     "name": "stdout",
     "output_type": "stream",
     "text": [
      "[]\n"
     ]
    }
   ],
   "source": [
    "# clear 메서드로 리스트의 모든 항목을 삭제합니다.\n",
    "\n",
    "numbers.clear()\n",
    "print(numbers)"
   ]
  },
  {
   "cell_type": "markdown",
   "id": "0f01d700",
   "metadata": {},
   "source": [
    "## 탐색 및 정렬"
   ]
  },
  {
   "cell_type": "markdown",
   "id": "a1c42e0a",
   "metadata": {},
   "source": [
    "### `.index(x)`\n",
    "\n",
    "x 값을 찾아 해당 index 값을 반환합니다."
   ]
  },
  {
   "cell_type": "code",
   "execution_count": 46,
   "id": "e70f1cec",
   "metadata": {},
   "outputs": [],
   "source": [
    "a = [1, 2, 3, 4, 5]"
   ]
  },
  {
   "cell_type": "code",
   "execution_count": 47,
   "id": "79e0b810",
   "metadata": {},
   "outputs": [
    {
     "data": {
      "text/plain": [
       "2"
      ]
     },
     "execution_count": 47,
     "metadata": {},
     "output_type": "execute_result"
    }
   ],
   "source": [
    "# index 메서드로 숫자 3이 있는 위치를 반환합니다.\n",
    "\n",
    "a.index(3)"
   ]
  },
  {
   "cell_type": "code",
   "execution_count": 48,
   "id": "05bcab7b",
   "metadata": {},
   "outputs": [
    {
     "ename": "ValueError",
     "evalue": "100 is not in list",
     "output_type": "error",
     "traceback": [
      "\u001b[1;31m---------------------------------------------------------------------------\u001b[0m",
      "\u001b[1;31mValueError\u001b[0m                                Traceback (most recent call last)",
      "Cell \u001b[1;32mIn[48], line 4\u001b[0m\n\u001b[0;32m      1\u001b[0m \u001b[39m# index는 찾는 값이 없으면 오류가 발생합니다.\u001b[39;00m\n\u001b[0;32m      2\u001b[0m \u001b[39m# index 메서드로 숫자 100이 있는 위치를 확인해봅시다.\u001b[39;00m\n\u001b[1;32m----> 4\u001b[0m a\u001b[39m.\u001b[39;49mindex(\u001b[39m100\u001b[39;49m)\n",
      "\u001b[1;31mValueError\u001b[0m: 100 is not in list"
     ]
    }
   ],
   "source": [
    "# index는 찾는 값이 없으면 오류가 발생합니다.\n",
    "# index 메서드로 숫자 100이 있는 위치를 확인해봅시다.\n",
    "\n",
    "a.index(100)"
   ]
  },
  {
   "cell_type": "markdown",
   "id": "f8129cf3",
   "metadata": {},
   "source": [
    "### `.count(x)`\n",
    "\n",
    "원하는 값의 개수를 반환합니다."
   ]
  },
  {
   "cell_type": "code",
   "execution_count": null,
   "id": "ed13702a",
   "metadata": {},
   "outputs": [],
   "source": [
    "a = [1, 2, 5, 1, 5, 1]"
   ]
  },
  {
   "cell_type": "code",
   "execution_count": 49,
   "id": "f7323051",
   "metadata": {},
   "outputs": [
    {
     "data": {
      "text/plain": [
       "1"
      ]
     },
     "execution_count": 49,
     "metadata": {},
     "output_type": "execute_result"
    }
   ],
   "source": [
    "# count 메서드로 1의 개수를 확인해봅시다.\n",
    "\n",
    "a.count(1)"
   ]
  },
  {
   "cell_type": "code",
   "execution_count": null,
   "id": "4261e536",
   "metadata": {},
   "outputs": [],
   "source": [
    "# 원하는 값을 모두 삭제하려면 다음과 같이 할 수 있습니다.\n",
    "a = [1, 2, 1, 3, 4]\n",
    "target_value = 1\n",
    "for i in range(a.count(target_value)):\n",
    "    a.remove(target_value)\n",
    "print(a)"
   ]
  },
  {
   "cell_type": "markdown",
   "id": "87ef7b6f",
   "metadata": {},
   "source": [
    "### `.sort()`\n",
    "\n",
    "리스트를 정렬합니다.\n",
    "\n",
    "내장함수 `sorted()` 와는 다르게 **원본 list를 변형**시키고, **`None`**을 리턴합니다.\n",
    "\n",
    "파라미터로는 `key`와 `reverse`가 있습니다."
   ]
  },
  {
   "cell_type": "code",
   "execution_count": 50,
   "id": "1bacfd92",
   "metadata": {},
   "outputs": [
    {
     "name": "stdout",
     "output_type": "stream",
     "text": [
      "[32, 15, 6, 37, 20, 16]\n"
     ]
    }
   ],
   "source": [
    "# lotto에 1부터 45 까지의 숫자가 들어있는 리스트를 저장합니다.\n",
    "# 6개의 숫자를 랜덤으로 저장합니다.\n",
    "import random\n",
    "lotto = random.sample(range(1, 46), 6)\n",
    "print(lotto)"
   ]
  },
  {
   "cell_type": "code",
   "execution_count": 51,
   "id": "fffadbf3",
   "metadata": {},
   "outputs": [
    {
     "name": "stdout",
     "output_type": "stream",
     "text": [
      "None\n",
      "[6, 15, 16, 20, 32, 37]\n"
     ]
    }
   ],
   "source": [
    "# sort 메서드로 리스트를 정렬합니다.\n",
    "# sort 메서드를 실행한 결과와 원본을 각각 출력해봅니다.\n",
    "\n",
    "print(lotto.sort())\n",
    "print(lotto)"
   ]
  },
  {
   "cell_type": "code",
   "execution_count": 52,
   "id": "bbe4ea4b",
   "metadata": {},
   "outputs": [
    {
     "name": "stdout",
     "output_type": "stream",
     "text": [
      "[37, 32, 20, 16, 15, 6]\n"
     ]
    }
   ],
   "source": [
    "# sort 메서드의 reverse옵션을 이용하여 역순 정렬합니다.\n",
    "\n",
    "lotto.sort(reverse= True)\n",
    "print(lotto)"
   ]
  },
  {
   "cell_type": "code",
   "execution_count": 53,
   "id": "769d1cc4",
   "metadata": {},
   "outputs": [
    {
     "name": "stdout",
     "output_type": "stream",
     "text": [
      "[14, 33, 23, 45, 32, 7] [7, 14, 23, 32, 33, 45]\n"
     ]
    }
   ],
   "source": [
    "# sorted 함수를 사용한 결과와 비교해봅시다.\n",
    "import random\n",
    "lotto = random.sample(range(1, 46), 6)\n",
    "print(lotto, sorted(lotto))"
   ]
  },
  {
   "cell_type": "markdown",
   "id": "937609ec",
   "metadata": {},
   "source": [
    "### `.reverse()`\n",
    "\n",
    "리스트의 element들을 제자리에서 반대로 뒤집습니다.\n",
    "정렬하는 것이 아닌 원본 순서를 뒤집고 수정합니다.\n",
    "\n",
    "내장함수 `reversed()` 와는 다르게 **원본 list를 변형**시키고, **`None`**을 리턴합니다.\n",
    "\n",
    "sort와 마찬가지로, 파라미터 `key`와 `reverse`가 있습니다."
   ]
  },
  {
   "cell_type": "code",
   "execution_count": 55,
   "id": "762ef4fb",
   "metadata": {},
   "outputs": [
    {
     "name": "stdout",
     "output_type": "stream",
     "text": [
      "['Tom', 'David', 'Justin']\n"
     ]
    }
   ],
   "source": [
    "classroom = ['Tom', 'David', 'Justin']\n",
    "print(classroom)"
   ]
  },
  {
   "cell_type": "code",
   "execution_count": 56,
   "id": "93fd5c24",
   "metadata": {},
   "outputs": [
    {
     "name": "stdout",
     "output_type": "stream",
     "text": [
      "['Justin', 'David', 'Tom']\n"
     ]
    }
   ],
   "source": [
    "# reverse 메서드로 리스트를 역순으로 만들어줍니다.\n",
    "\n",
    "classroom.reverse()\n",
    "print(classroom)"
   ]
  },
  {
   "cell_type": "markdown",
   "id": "e88c6b7d",
   "metadata": {},
   "source": [
    "## 리스트 메서드 모두 확인하기\n",
    "파이썬 내장함수 dir을 통해 컨테이너가 가지고 있는 메서드를 확인할 수 있습니다."
   ]
  },
  {
   "cell_type": "code",
   "execution_count": 57,
   "id": "dafdc8d6",
   "metadata": {
    "scrolled": true
   },
   "outputs": [
    {
     "data": {
      "text/plain": [
       "['__add__',\n",
       " '__class__',\n",
       " '__class_getitem__',\n",
       " '__contains__',\n",
       " '__delattr__',\n",
       " '__delitem__',\n",
       " '__dir__',\n",
       " '__doc__',\n",
       " '__eq__',\n",
       " '__format__',\n",
       " '__ge__',\n",
       " '__getattribute__',\n",
       " '__getitem__',\n",
       " '__gt__',\n",
       " '__hash__',\n",
       " '__iadd__',\n",
       " '__imul__',\n",
       " '__init__',\n",
       " '__init_subclass__',\n",
       " '__iter__',\n",
       " '__le__',\n",
       " '__len__',\n",
       " '__lt__',\n",
       " '__mul__',\n",
       " '__ne__',\n",
       " '__new__',\n",
       " '__reduce__',\n",
       " '__reduce_ex__',\n",
       " '__repr__',\n",
       " '__reversed__',\n",
       " '__rmul__',\n",
       " '__setattr__',\n",
       " '__setitem__',\n",
       " '__sizeof__',\n",
       " '__str__',\n",
       " '__subclasshook__',\n",
       " 'append',\n",
       " 'clear',\n",
       " 'copy',\n",
       " 'count',\n",
       " 'extend',\n",
       " 'index',\n",
       " 'insert',\n",
       " 'pop',\n",
       " 'remove',\n",
       " 'reverse',\n",
       " 'sort']"
      ]
     },
     "execution_count": 57,
     "metadata": {},
     "output_type": "execute_result"
    }
   ],
   "source": [
    "# dir 함수로 리스트가 가지고 있는 메서드를 확인할 수 있습니다.\n",
    "dir(list) # dir([])"
   ]
  },
  {
   "cell_type": "markdown",
   "id": "ba66ecc6",
   "metadata": {},
   "source": [
    "---"
   ]
  },
  {
   "cell_type": "markdown",
   "id": "0d76905a",
   "metadata": {},
   "source": [
    "# 튜플(tuple)\n",
    "\n",
    "> 변경할 수 없는 불변(Immutable) 자료형\n",
    "\n",
    "![image](https://user-images.githubusercontent.com/90173310/148331867-25aba08c-d76b-4bf0-a7d3-106db29d2db2.png)\n",
    "\n",
    "- 값을 변경할 수 없기 때문에 값에 영향을 미치지 않는 메서드만을 지원합니다."
   ]
  },
  {
   "cell_type": "code",
   "execution_count": null,
   "id": "291158cd",
   "metadata": {
    "scrolled": true
   },
   "outputs": [],
   "source": [
    "# 튜플은 불변자료형이기 때문에 값을 변경하는 메서드는 사용할 수 없습니다.\n",
    "# append를 통해 'tuple'을 추가하여 어떤 오류가 나타나는지 확인해봅시다.\n",
    "\n"
   ]
  },
  {
   "cell_type": "markdown",
   "id": "2d4fe7be",
   "metadata": {},
   "source": [
    "## 탐색\n",
    "### `.index(x[, start[, end]])`\n",
    "\n",
    "튜플에 있는 항목 중 값이 x 와 같은 첫 번째 인덱스를 돌려줍니다.\n",
    "\n",
    "해당하는 값이 없으면, ValueError를 발생합니다."
   ]
  },
  {
   "cell_type": "code",
   "execution_count": 58,
   "id": "6a1041e4",
   "metadata": {},
   "outputs": [],
   "source": [
    "a = ('hello','python','python','django','web')"
   ]
  },
  {
   "cell_type": "code",
   "execution_count": 59,
   "id": "bdb0b8f2",
   "metadata": {},
   "outputs": [
    {
     "data": {
      "text/plain": [
       "1"
      ]
     },
     "execution_count": 59,
     "metadata": {},
     "output_type": "execute_result"
    }
   ],
   "source": [
    "# python이 가장 처음 나타난 위치를 확인하세요.\n",
    "\n",
    "a.index('python')"
   ]
  },
  {
   "cell_type": "code",
   "execution_count": 60,
   "id": "4d61fff6",
   "metadata": {},
   "outputs": [
    {
     "ename": "ValueError",
     "evalue": "tuple.index(x): x not in tuple",
     "output_type": "error",
     "traceback": [
      "\u001b[1;31m---------------------------------------------------------------------------\u001b[0m",
      "\u001b[1;31mValueError\u001b[0m                                Traceback (most recent call last)",
      "Cell \u001b[1;32mIn[60], line 4\u001b[0m\n\u001b[0;32m      1\u001b[0m \u001b[39m# index는 찾는 값이 없으면 오류가 발생합니다.\u001b[39;00m\n\u001b[0;32m      2\u001b[0m \u001b[39m# index 메서드로 algorithm의 위치를 확인하세요.\u001b[39;00m\n\u001b[1;32m----> 4\u001b[0m a\u001b[39m.\u001b[39;49mindex(\u001b[39m'\u001b[39;49m\u001b[39malgorithm\u001b[39;49m\u001b[39m'\u001b[39;49m)\n",
      "\u001b[1;31mValueError\u001b[0m: tuple.index(x): x not in tuple"
     ]
    }
   ],
   "source": [
    "# index는 찾는 값이 없으면 오류가 발생합니다.\n",
    "# index 메서드로 algorithm의 위치를 확인하세요.\n",
    "\n",
    "a.index('algorithm')"
   ]
  },
  {
   "cell_type": "markdown",
   "id": "6ccc8219",
   "metadata": {},
   "source": [
    "### `.count(x)`\n",
    "튜플에서 x 가 등장하는 횟수를 돌려줍니다."
   ]
  },
  {
   "cell_type": "code",
   "execution_count": 61,
   "id": "e444cb5d",
   "metadata": {
    "scrolled": false
   },
   "outputs": [
    {
     "data": {
      "text/plain": [
       "2"
      ]
     },
     "execution_count": 61,
     "metadata": {},
     "output_type": "execute_result"
    }
   ],
   "source": [
    "# count 메서드를 통해 a의 요소들 중 python의 갯수를 확인하세요.\n",
    "\n",
    "a.count('python')"
   ]
  },
  {
   "cell_type": "markdown",
   "id": "7cc6a835",
   "metadata": {},
   "source": [
    "---"
   ]
  },
  {
   "cell_type": "markdown",
   "id": "ff58b891",
   "metadata": {},
   "source": [
    "# 연산자"
   ]
  },
  {
   "cell_type": "markdown",
   "id": "070dcc70",
   "metadata": {},
   "source": [
    "## 멤버십 연산자 (Membership Operatoe)\n",
    "\n",
    "요소가 시퀀스에 속해있는지 확인할 수 있습니다.\n",
    "- `in` 연산자\n",
    "- `not in` 연산자"
   ]
  },
  {
   "cell_type": "code",
   "execution_count": null,
   "id": "9a898a50",
   "metadata": {},
   "outputs": [],
   "source": [
    "# 리스트안에 특정한 정수가 있는지 확인해봅시다.\n",
    "# 정수 1 이 [3, 2] 리스트에 속해있는지 확인해봅시다."
   ]
  },
  {
   "cell_type": "code",
   "execution_count": 62,
   "id": "71e46065",
   "metadata": {},
   "outputs": [
    {
     "data": {
      "text/plain": [
       "False"
      ]
     },
     "execution_count": 62,
     "metadata": {},
     "output_type": "execute_result"
    }
   ],
   "source": [
    "1 in [3, 2]"
   ]
  },
  {
   "cell_type": "code",
   "execution_count": null,
   "id": "78f48a09",
   "metadata": {},
   "outputs": [],
   "source": [
    "# 튜플안에 특정한 정수가 있는지 확인해봅시다.\n",
    "# 정수 5가 (1, 2, 'hi') 튜플에 속해있는지 확인해봅시다."
   ]
  },
  {
   "cell_type": "code",
   "execution_count": 63,
   "id": "4d32e11a",
   "metadata": {},
   "outputs": [
    {
     "data": {
      "text/plain": [
       "False"
      ]
     },
     "execution_count": 63,
     "metadata": {},
     "output_type": "execute_result"
    }
   ],
   "source": [
    "5 in (1, 2, 'hi')"
   ]
  },
  {
   "cell_type": "code",
   "execution_count": null,
   "id": "f4dffae8",
   "metadata": {},
   "outputs": [],
   "source": [
    "# range안에 특정한 정수가 있는지 확인해봅시다.\n",
    "# -3이 range(3) 에 속해있는지 확인해봅시다."
   ]
  },
  {
   "cell_type": "code",
   "execution_count": 67,
   "id": "afbac4e7",
   "metadata": {},
   "outputs": [
    {
     "data": {
      "text/plain": [
       "False"
      ]
     },
     "execution_count": 67,
     "metadata": {},
     "output_type": "execute_result"
    }
   ],
   "source": [
    "-3 in range(3)\n"
   ]
  },
  {
   "cell_type": "code",
   "execution_count": null,
   "id": "f785cfc4",
   "metadata": {},
   "outputs": [],
   "source": [
    "# 문자열안에 특정한 문자가 있는지 확인해봅시다.\n",
    "# 문자열 'a' 가 'apple' 에 속해있는지 확인해봅시다."
   ]
  },
  {
   "cell_type": "code",
   "execution_count": 69,
   "id": "9c971252",
   "metadata": {},
   "outputs": [
    {
     "data": {
      "text/plain": [
       "True"
      ]
     },
     "execution_count": 69,
     "metadata": {},
     "output_type": "execute_result"
    }
   ],
   "source": [
    "'a' in 'apple'"
   ]
  },
  {
   "cell_type": "code",
   "execution_count": null,
   "id": "74ba676e",
   "metadata": {},
   "outputs": [],
   "source": [
    "# 리스트안에 특정한 문자가 없는지 확인해봅시다.\n",
    "# 문자열 'b' 가 'apple' 에 속해있는지 확인해봅시다."
   ]
  },
  {
   "cell_type": "code",
   "execution_count": 70,
   "id": "e6b2ebca",
   "metadata": {},
   "outputs": [
    {
     "data": {
      "text/plain": [
       "False"
      ]
     },
     "execution_count": 70,
     "metadata": {},
     "output_type": "execute_result"
    }
   ],
   "source": [
    "'b' in 'apple'"
   ]
  },
  {
   "cell_type": "markdown",
   "id": "9373ec28",
   "metadata": {},
   "source": [
    "## 시퀀스형 연산자(Sqeuence Type Operator)\n",
    "\n",
    "### 산술 연산자 (+)\n",
    "시퀀스를 연결(concatenation)할 수 있습니다. "
   ]
  },
  {
   "cell_type": "code",
   "execution_count": null,
   "id": "078c3b6f",
   "metadata": {},
   "outputs": [],
   "source": [
    "# 두 list [1, 2] 와 ['a'] 를 + 를 이용하여 합쳐봅시다."
   ]
  },
  {
   "cell_type": "code",
   "execution_count": 71,
   "id": "e4cba30d",
   "metadata": {},
   "outputs": [
    {
     "data": {
      "text/plain": [
       "[1, 2, 'a']"
      ]
     },
     "execution_count": 71,
     "metadata": {},
     "output_type": "execute_result"
    }
   ],
   "source": [
    "[1,2] + ['a']"
   ]
  },
  {
   "cell_type": "code",
   "execution_count": null,
   "id": "ca8d1ce6",
   "metadata": {},
   "outputs": [],
   "source": [
    "# 두 튜플 (1, 2) 와 ('a',) 를 + 를 이용하여 합쳐봅시다."
   ]
  },
  {
   "cell_type": "code",
   "execution_count": 72,
   "id": "a9a8ba4a",
   "metadata": {},
   "outputs": [
    {
     "data": {
      "text/plain": [
       "(1, 2, 'a')"
      ]
     },
     "execution_count": 72,
     "metadata": {},
     "output_type": "execute_result"
    }
   ],
   "source": [
    "(1,2) + ('a',)"
   ]
  },
  {
   "cell_type": "code",
   "execution_count": null,
   "id": "74b4a1cc",
   "metadata": {},
   "outputs": [],
   "source": [
    "# range에는 사용할 수 없습니다.\n",
    "# range(1), range(2, 5) 를 + 를 이용하여 합치고자 할 때 발생하는 오류를 확인해 봅시다."
   ]
  },
  {
   "cell_type": "code",
   "execution_count": 73,
   "id": "5c20cd7d",
   "metadata": {},
   "outputs": [
    {
     "ename": "TypeError",
     "evalue": "unsupported operand type(s) for +: 'range' and 'range'",
     "output_type": "error",
     "traceback": [
      "\u001b[1;31m---------------------------------------------------------------------------\u001b[0m",
      "\u001b[1;31mTypeError\u001b[0m                                 Traceback (most recent call last)",
      "Cell \u001b[1;32mIn[73], line 1\u001b[0m\n\u001b[1;32m----> 1\u001b[0m \u001b[39mrange\u001b[39;49m(\u001b[39m1\u001b[39;49m) \u001b[39m+\u001b[39;49m \u001b[39mrange\u001b[39;49m(\u001b[39m2\u001b[39;49m, \u001b[39m5\u001b[39;49m) \n",
      "\u001b[1;31mTypeError\u001b[0m: unsupported operand type(s) for +: 'range' and 'range'"
     ]
    }
   ],
   "source": [
    "range(1) + range(2, 5) "
   ]
  },
  {
   "cell_type": "code",
   "execution_count": null,
   "id": "10e3cc04",
   "metadata": {},
   "outputs": [],
   "source": [
    "# 두 문자열 '12' 와 'a' 를 + 를 이용하여 합쳐봅시다."
   ]
  },
  {
   "cell_type": "code",
   "execution_count": 74,
   "id": "ee997316",
   "metadata": {},
   "outputs": [
    {
     "data": {
      "text/plain": [
       "'12a'"
      ]
     },
     "execution_count": 74,
     "metadata": {},
     "output_type": "execute_result"
    }
   ],
   "source": [
    "'12' + 'a'"
   ]
  },
  {
   "cell_type": "markdown",
   "id": "3112d8c8",
   "metadata": {},
   "source": [
    "### 반복 연산자 (*)\n",
    "시퀀스를 반복할 수 있습니다."
   ]
  },
  {
   "cell_type": "code",
   "execution_count": null,
   "id": "a2d35b77",
   "metadata": {},
   "outputs": [],
   "source": [
    "# 리스트 [0] 을 *을 이용해 8번 반복해봅시다."
   ]
  },
  {
   "cell_type": "code",
   "execution_count": 75,
   "id": "4bdb626e",
   "metadata": {},
   "outputs": [
    {
     "data": {
      "text/plain": [
       "[0, 0, 0, 0, 0, 0, 0, 0]"
      ]
     },
     "execution_count": 75,
     "metadata": {},
     "output_type": "execute_result"
    }
   ],
   "source": [
    "[0]* 8"
   ]
  },
  {
   "cell_type": "code",
   "execution_count": null,
   "id": "16246b6f",
   "metadata": {},
   "outputs": [],
   "source": [
    "# 튜플 (1, 2) 를 * 을 활용해 3번 반복해봅시다."
   ]
  },
  {
   "cell_type": "code",
   "execution_count": 76,
   "id": "dc1586ac",
   "metadata": {},
   "outputs": [
    {
     "data": {
      "text/plain": [
       "(1, 2, 1, 2, 1, 2)"
      ]
     },
     "execution_count": 76,
     "metadata": {},
     "output_type": "execute_result"
    }
   ],
   "source": [
    "(1,2)*3"
   ]
  },
  {
   "cell_type": "code",
   "execution_count": null,
   "id": "a996dadb",
   "metadata": {},
   "outputs": [],
   "source": [
    "# range에는 사용할 수 없습니다.\n",
    "# range(1) 을 * 연산자로 3번 반복하려고 할 때 발생하는 오류를 확인해 봅시다."
   ]
  },
  {
   "cell_type": "code",
   "execution_count": 77,
   "id": "5bf389c9",
   "metadata": {},
   "outputs": [
    {
     "ename": "TypeError",
     "evalue": "unsupported operand type(s) for *: 'range' and 'int'",
     "output_type": "error",
     "traceback": [
      "\u001b[1;31m---------------------------------------------------------------------------\u001b[0m",
      "\u001b[1;31mTypeError\u001b[0m                                 Traceback (most recent call last)",
      "Cell \u001b[1;32mIn[77], line 1\u001b[0m\n\u001b[1;32m----> 1\u001b[0m \u001b[39mrange\u001b[39;49m(\u001b[39m1\u001b[39;49m)\u001b[39m*\u001b[39;49m\u001b[39m3\u001b[39;49m\n",
      "\u001b[1;31mTypeError\u001b[0m: unsupported operand type(s) for *: 'range' and 'int'"
     ]
    }
   ],
   "source": [
    "range(1)*3"
   ]
  },
  {
   "cell_type": "code",
   "execution_count": null,
   "id": "d8d8cff9",
   "metadata": {},
   "outputs": [],
   "source": [
    "# 문자열 'hi' 를 * 을 활용해 3번 반복해봅시다."
   ]
  },
  {
   "cell_type": "code",
   "execution_count": 78,
   "id": "e9c48119",
   "metadata": {},
   "outputs": [
    {
     "data": {
      "text/plain": [
       "'hihihi'"
      ]
     },
     "execution_count": 78,
     "metadata": {},
     "output_type": "execute_result"
    }
   ],
   "source": [
    "'hi'*3"
   ]
  }
 ],
 "metadata": {
  "kernelspec": {
   "display_name": "Python 3",
   "language": "python",
   "name": "python3"
  },
  "language_info": {
   "codemirror_mode": {
    "name": "ipython",
    "version": 3
   },
   "file_extension": ".py",
   "mimetype": "text/x-python",
   "name": "python",
   "nbconvert_exporter": "python",
   "pygments_lexer": "ipython3",
   "version": "3.9.13"
  },
  "toc": {
   "base_numbering": 1,
   "nav_menu": {},
   "number_sections": true,
   "sideBar": true,
   "skip_h1_title": false,
   "title_cell": "Table of Contents",
   "title_sidebar": "데이터 구조(Data Structure",
   "toc_cell": false,
   "toc_position": {
    "height": "calc(100% - 180px)",
    "left": "10px",
    "top": "150px",
    "width": "359.716px"
   },
   "toc_section_display": true,
   "toc_window_display": true
  },
  "vscode": {
   "interpreter": {
    "hash": "c4b9ebf4ca459396e2ad1150752490c26670c1a037c08cad955a4425787bec2e"
   }
  }
 },
 "nbformat": 4,
 "nbformat_minor": 5
}
